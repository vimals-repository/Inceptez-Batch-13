{
 "cells": [
  {
   "cell_type": "markdown",
   "metadata": {},
   "source": [
    "1. Write a Python program to find \n",
    "those numbers which are divisible by 7 and multiple of 5, between 1500 and 2700 (both included)."
   ]
  },
  {
   "cell_type": "code",
   "execution_count": 12,
   "metadata": {},
   "outputs": [
    {
     "name": "stdout",
     "output_type": "stream",
     "text": [
      "[1505, 1540, 1575, 1610, 1645, 1680, 1715, 1750, 1785, 1820, 1855, 1890, 1925, 1960, 1995, 2030, 2065, 2100, 2135, 2170, 2205, 2240, 2275, 2310, 2345, 2380, 2415, 2450, 2485, 2520, 2555, 2590, 2625, 2660, 2695]\n"
     ]
    }
   ],
   "source": [
    "min=1500\n",
    "max=2700\n",
    "outputlist=[]\n",
    "\n",
    "for i in range (1500,2701,1):\n",
    "    if(i % 7 ==0  and i % 5 ==0):\n",
    "        outputlist.append(i)\n",
    "\n",
    "print(outputlist)"
   ]
  },
  {
   "cell_type": "markdown",
   "metadata": {},
   "source": [
    "2. Write a Python program to construct the following pattern, using a nested for loop.\n",
    "* \n",
    "* * \n",
    "* * * \n",
    "* * * * \n",
    "* * * * * \n",
    "* * * * \n",
    "* * * \n",
    "* * \n",
    "* "
   ]
  },
  {
   "cell_type": "code",
   "execution_count": 44,
   "metadata": {},
   "outputs": [
    {
     "name": "stdout",
     "output_type": "stream",
     "text": [
      "*\n",
      "**\n",
      "***\n",
      "****\n",
      "*****\n",
      "****\n",
      "***\n",
      "**\n",
      "*\n"
     ]
    }
   ],
   "source": [
    "for i in range(1,6):\n",
    "    if(i<5):\n",
    "        print ('*' * i)\n",
    "    else:\n",
    "        for j in range (i,0,-1):\n",
    "            print('*'*j)"
   ]
  },
  {
   "cell_type": "markdown",
   "metadata": {},
   "source": [
    "3. Write a Python program to count the number of even and odd numbers from a series of numbers.\n",
    "In [4]:\n",
    "\n",
    "Number of even numbers : 4\n",
    "Number of odd numbers : 5"
   ]
  },
  {
   "cell_type": "code",
   "execution_count": 33,
   "metadata": {},
   "outputs": [
    {
     "name": "stdout",
     "output_type": "stream",
     "text": [
      "Enter the series of numbers to gets EVEN and ODD counts for it :11,12,13\n",
      "evencount :  1\n",
      "\n",
      "oddcount :  2\n"
     ]
    }
   ],
   "source": [
    "inputlist =input(\"Enter the series of numbers to gets EVEN and ODD counts for it :\")\n",
    "split_data = inputlist.split(',')\n",
    "oddcount=0\n",
    "evencount=0\n",
    "for i in split_data:\n",
    "    if(int(i)%2==1):\n",
    "         oddcount +=1 \n",
    "    else:\n",
    "        evencount +=1\n",
    "print(\"evencount : \",evencount)\n",
    "print(\"\\noddcount : \",oddcount)\n"
   ]
  },
  {
   "cell_type": "markdown",
   "metadata": {},
   "source": [
    "4. Write a Python program to find numbers between 100 and 400 (both included) where each digit of a number is an even number. The numbers obtained should be printed in a comma-separated sequence.\n",
    "In [5]:\n",
    "\n",
    "200,202,204,206,208,220,222,224,226,228,240,242,244,246,248,260,262,264,266,268,280,282,284,286,288,400"
   ]
  },
  {
   "cell_type": "code",
   "execution_count": 41,
   "metadata": {},
   "outputs": [
    {
     "name": "stdout",
     "output_type": "stream",
     "text": [
      "[200, 202, 204, 206, 208, 220, 222, 224, 226, 228, 240, 242, 244, 246, 248, 260, 262, 264, 266, 268, 280, 282, 284, 286, 288, 400]\n"
     ]
    }
   ],
   "source": [
    "resultant_list = []\n",
    "for i in range(100,401):\n",
    "        sep_elements = list(str(i))\n",
    "        int_Val = int(sep_elements[0])\n",
    "        if(int(sep_elements[0])%2==0 and int(sep_elements[1])%2==0 and int(sep_elements[2])%2==0):\n",
    "            resultant_list.append(i)\n",
    "print(resultant_list)    \n",
    "        "
   ]
  },
  {
   "cell_type": "markdown",
   "metadata": {},
   "source": [
    "5. Write a Python program to calculate a dog's age in dog's years. Go to the editor\n",
    "Note: For the first two years, a dog year is equal to 10.5 human years. After that, each dog year equals 4 human years.\n",
    "\n",
    "In [7]:\n",
    "\n",
    "Input a dog's age in human years: 20\n",
    "The dog's age in dog's years is 93"
   ]
  },
  {
   "cell_type": "code",
   "execution_count": 50,
   "metadata": {},
   "outputs": [
    {
     "name": "stdout",
     "output_type": "stream",
     "text": [
      "Input a dog's age in human years:20\n",
      "The dog's age in dog's years is  93.0\n"
     ]
    }
   ],
   "source": [
    "dogs_humanyrs = int(input(\"Input a dog's age in human years:\" ))\n",
    "dog_ageyrs = 0\n",
    "for i in range(1,dogs_humanyrs+1):\n",
    "    if(i==1 or i==2):\n",
    "        dog_ageyrs+=10.5\n",
    "    else:\n",
    "        dog_ageyrs+=4\n",
    "print(\"The dog's age in dog's years is \",dog_ageyrs)\n",
    "        "
   ]
  },
  {
   "cell_type": "markdown",
   "metadata": {},
   "source": [
    "6. Write a Python function to find the Max of three numbers.\n",
    "In [9]:\n",
    "\n",
    "The Three numbers are: (3, 6, -5)\n",
    "6"
   ]
  },
  {
   "cell_type": "code",
   "execution_count": 57,
   "metadata": {},
   "outputs": [
    {
     "name": "stdout",
     "output_type": "stream",
     "text": [
      "The Three numbers are: (3, 6, -5)\n",
      "6\n"
     ]
    }
   ],
   "source": [
    "input_num = (3, 6, -5)\n",
    "print(\"The Three numbers are:\",input_num)\n",
    "max = 0\n",
    "for i in input_num:\n",
    "    if(i>max):\n",
    "        max=i\n",
    "print(max)\n"
   ]
  },
  {
   "cell_type": "markdown",
   "metadata": {},
   "source": [
    "\n",
    "7. Write a Python function that takes a number as a parameter and check the number is prime or not.\n",
    "In [11]:\n",
    "\n",
    "The number is: 9\n",
    "False\n"
   ]
  },
  {
   "cell_type": "code",
   "execution_count": 75,
   "metadata": {},
   "outputs": [
    {
     "name": "stdout",
     "output_type": "stream",
     "text": [
      "The number is:9\n",
      "False\n"
     ]
    }
   ],
   "source": [
    "inputno =int(input(\"The number is:\"))\n",
    "if(inputno>1):\n",
    "    for i in range(2,inputno):\n",
    "        if(inputno%i==0):\n",
    "            print(\"False\")\n",
    "            break\n",
    "    else:\n",
    "            print(\"True\")\n",
    "else:\n",
    "    print(\"True\")\n"
   ]
  },
  {
   "cell_type": "markdown",
   "metadata": {},
   "source": [
    "8. Write a Python function that accepts a string and calculate the number of upper case letters and lower case letters. Go to the editor\n",
    "In [13]:\n",
    "\n",
    "Original String :  Inceptz is One of The BeSt Places TO LEarn DataSciEnce\n",
    "No. of Upper case characters :  13\n",
    "No. of Lower case Characters :  32\n",
    "\n"
   ]
  },
  {
   "cell_type": "code",
   "execution_count": 20,
   "metadata": {},
   "outputs": [
    {
     "name": "stdout",
     "output_type": "stream",
     "text": [
      "Original String : Inceptz is One of The BeSt Places TO LEarn DataSciEnce\n",
      "No. of Upper case characters : 13\n",
      "No. of Lower case Characters :  32\n"
     ]
    }
   ],
   "source": [
    "getInput = input(\"Original String : \")\n",
    "str_length = len(getInput)\n",
    "lower = 0\n",
    "upper = 0\n",
    "for i in range(0,str_length):\n",
    "    if(getInput[i].islower()):\n",
    "        lower+=1\n",
    "    elif(getInput[i].isupper()):\n",
    "        upper+=1\n",
    "    else:\n",
    "        continue\n",
    "\n",
    "print(\"No. of Upper case characters :\",upper)\n",
    "print(\"No. of Lower case Characters : \",lower)"
   ]
  },
  {
   "cell_type": "markdown",
   "metadata": {},
   "source": [
    "9. Write a Python program to reverse a string.\n",
    "In [19]:\n",
    "\n",
    "The original string is: 1234abcd\n",
    "The reversed string: dcba4321"
   ]
  },
  {
   "cell_type": "code",
   "execution_count": 19,
   "metadata": {},
   "outputs": [
    {
     "name": "stdout",
     "output_type": "stream",
     "text": [
      "The original string is: 1234abcd\n",
      "The reversed string: dcba4321\n"
     ]
    }
   ],
   "source": [
    "var_a = input(\"The original string is: \")\n",
    "var_length = len(var_a)\n",
    "reverset_val = \"\"\n",
    "for i in range((var_length-1),-1,-1):\n",
    "    reverset_val+=str(var_a[i])\n",
    "print(\"The reversed string:\",reverset_val)"
   ]
  },
  {
   "cell_type": "markdown",
   "metadata": {},
   "source": [
    "In Python array, there are multiple ways to print the whole array with all the elements, but to print a specific range of elements from the array, we use Slice operation. Slice operation is performed on array with the use of colon(:). To print elements from beginning to a range use [:Index], to print elements from end use [:-Index], to print elements from specific Index till the end use [Index:], to print elements within a range, use [Start Index:End Index] and to print whole List with the use of slicing operation, use [:]. Further, to print whole array in reverse order, use [::-1]."
   ]
  },
  {
   "cell_type": "code",
   "execution_count": 31,
   "metadata": {},
   "outputs": [
    {
     "name": "stdout",
     "output_type": "stream",
     "text": [
      "The original string is: 1234abcd\n",
      "The reversed string: dcba4321\n"
     ]
    }
   ],
   "source": [
    "def reversefunction(data):\n",
    "    return data[::-1]\n",
    "\n",
    "var_a = input(\"The original string is: \")\n",
    "print(\"The reversed string:\",reversefunction(var_a))"
   ]
  },
  {
   "cell_type": "markdown",
   "metadata": {},
   "source": [
    "10. Write a Python program to find the greatest common divisor (gcd) of two integers.\n",
    "In [18]:\n",
    "\n",
    "The two numbers are: (12, 14)\n",
    "The GCD of the numbers are: 2\n"
   ]
  },
  {
   "cell_type": "code",
   "execution_count": 2,
   "metadata": {},
   "outputs": [
    {
     "name": "stdout",
     "output_type": "stream",
     "text": [
      "12\n"
     ]
    }
   ],
   "source": [
    "import math \n",
    "print(math.gcd(12,24))"
   ]
  },
  {
   "cell_type": "code",
   "execution_count": 5,
   "metadata": {},
   "outputs": [
    {
     "name": "stdout",
     "output_type": "stream",
     "text": [
      "2\n"
     ]
    }
   ],
   "source": [
    "def find_gcd(x,y):\n",
    "    if(y==0):\n",
    "        return x\n",
    "    else:\n",
    "        return find_gcd(y,x%y)\n",
    "    \n",
    "print(find_gcd(12,10))"
   ]
  },
  {
   "cell_type": "code",
   "execution_count": null,
   "metadata": {},
   "outputs": [],
   "source": []
  }
 ],
 "metadata": {
  "kernelspec": {
   "display_name": "Python 3",
   "language": "python",
   "name": "python3"
  },
  "language_info": {
   "codemirror_mode": {
    "name": "ipython",
    "version": 3
   },
   "file_extension": ".py",
   "mimetype": "text/x-python",
   "name": "python",
   "nbconvert_exporter": "python",
   "pygments_lexer": "ipython3",
   "version": "3.7.6"
  }
 },
 "nbformat": 4,
 "nbformat_minor": 4
}
