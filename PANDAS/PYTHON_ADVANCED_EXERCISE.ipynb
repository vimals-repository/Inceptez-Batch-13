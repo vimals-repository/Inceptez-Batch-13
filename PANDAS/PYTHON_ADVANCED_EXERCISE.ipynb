{
 "cells": [
  {
   "cell_type": "markdown",
   "metadata": {},
   "source": [
    "Exercise 1: Write a function to sort the list based on the first letter of the second element\n",
    "lst=[(19542209, \"New York\") ,(4887871, \"Alabama\"), (1420491, \"Hawaii\"), (626299, \"Vermont\"), (1805832, \"West Virginia\"), (39865590, \"California\")]"
   ]
  },
  {
   "cell_type": "code",
   "execution_count": 47,
   "metadata": {},
   "outputs": [
    {
     "name": "stdout",
     "output_type": "stream",
     "text": [
      "[(4887871, 'Alabama'), (39865590, 'California'), (1420491, 'Hawaii'), (19542209, 'New York'), (626299, 'Vermont'), (1805832, 'West Virginia')]\n"
     ]
    }
   ],
   "source": [
    "lst=[(19542209, \"New York\") ,(4887871, \"Alabama\"), (1420491, \"Hawaii\"), \n",
    "     (626299, \"Vermont\"), (1805832, \"West Virginia\"), (39865590, \"California\")]\n",
    "\n",
    "lst.sort(key = lambda lst:lst[1])\n",
    "print(lst)"
   ]
  },
  {
   "cell_type": "markdown",
   "metadata": {},
   "source": [
    "Exercise 2: Write a function to sort the list based on the last letter of the second element\n",
    "Use list from previous question"
   ]
  },
  {
   "cell_type": "code",
   "execution_count": 52,
   "metadata": {},
   "outputs": [
    {
     "name": "stdout",
     "output_type": "stream",
     "text": [
      "[(39865590, 'California'), (1805832, 'West Virginia'), (4887871, 'Alabama'), (1420491, 'Hawaii'), (19542209, 'New York'), (626299, 'Vermont')]\n"
     ]
    }
   ],
   "source": [
    "lst.sort(key = lambda lst:lst[1][-1])\n",
    "print(lst)"
   ]
  },
  {
   "cell_type": "markdown",
   "metadata": {},
   "source": [
    "\n",
    "Exercise 3: Create a range from 1 to 8 merge the given list and together to create a new list of tuples.\n",
    "lst1=[\"Energy\", \"Agriculture\", \"Industry\", \"Technology\", \"Finance\", \"Forestry\", \"Transport\"]"
   ]
  },
  {
   "cell_type": "code",
   "execution_count": 61,
   "metadata": {},
   "outputs": [
    {
     "name": "stdout",
     "output_type": "stream",
     "text": [
      "[(1, 'Energy'), (2, 'Agriculture'), (3, 'Industry'), (4, 'Technology'), (5, 'Finance'), (6, 'Forestry'), (7, 'Transport')]\n"
     ]
    }
   ],
   "source": [
    "import numpy as np\n",
    "lst1=[\"Energy\", \"Agriculture\", \"Industry\", \"Technology\", \"Finance\", \"Forestry\", \"Transport\"]\n",
    "combined_list1 = [(x,y) for x,y in zip(range(1,8),lst1)]\n",
    "print(combined_list1)\n",
    "# or else using the lambda/map and list functions as below"
   ]
  },
  {
   "cell_type": "code",
   "execution_count": 62,
   "metadata": {},
   "outputs": [
    {
     "name": "stdout",
     "output_type": "stream",
     "text": [
      "[(0, 'Energy'), (1, 'Agriculture'), (2, 'Industry'), (3, 'Technology'), (4, 'Finance'), (5, 'Forestry'), (6, 'Transport')]\n"
     ]
    }
   ],
   "source": [
    "lst1=[\"Energy\", \"Agriculture\", \"Industry\", \"Technology\", \"Finance\", \"Forestry\", \"Transport\"]\n",
    "combined_list2 = list(map(lambda x,y:(y,x) ,lst1,np.arange(8)))\n",
    "print(combined_list2)"
   ]
  },
  {
   "cell_type": "markdown",
   "metadata": {},
   "source": [
    "Exercise 4: Write a function and create a list consisted of the number of occurence of letter: a (all a's).\n",
    "lst1=[\"Antartica\", \"America\", \"Armania\", \"Australia\", \"Albania\", \"Afganistan\",\"Alaska\"]"
   ]
  },
  {
   "cell_type": "code",
   "execution_count": 26,
   "metadata": {},
   "outputs": [
    {
     "data": {
      "text/plain": [
       "[('Antartica', 3),\n",
       " ('America', 2),\n",
       " ('Armania', 3),\n",
       " ('Australia', 3),\n",
       " ('Albania', 3),\n",
       " ('Afganistan', 3),\n",
       " ('Alaska', 3)]"
      ]
     },
     "execution_count": 26,
     "metadata": {},
     "output_type": "execute_result"
    }
   ],
   "source": [
    "letter = 'a'\n",
    "lst1=[\"Antartica\", \"America\", \"Armania\", \"Australia\", \"Albania\", \"Afganistan\",\"Alaska\"]\n",
    "\n",
    "def iterateover_listelements(x):\n",
    "    count = 0\n",
    "    for y in x:\n",
    "        if(y.lower()=='a'):\n",
    "            count+=1\n",
    "    return x,count\n",
    "\n",
    "list(map(iterateover_listelements,lst1))\n"
   ]
  },
  {
   "cell_type": "markdown",
   "metadata": {},
   "source": [
    "Exercise 5: Write a function filter all the vowels in a given string using filter.¶\n",
    "str1=\"Inceptz is one of the best institutes to read data science in chennai\""
   ]
  },
  {
   "cell_type": "code",
   "execution_count": 36,
   "metadata": {},
   "outputs": [
    {
     "name": "stdout",
     "output_type": "stream",
     "text": [
      "['I', 'e', 'i', 'o', 'e', 'o', 'e', 'e', 'i', 'i', 'u', 'e', 'o', 'e', 'a', 'a', 'a', 'i', 'e', 'e', 'i', 'e', 'a', 'i']\n"
     ]
    }
   ],
   "source": [
    "str1=\"Inceptz is one of the best institutes to read data science in chennai\"\n",
    "vowels_list = ['a','e','i','o','u']\n",
    "\n",
    "def get_vowels(a):\n",
    "    if a.lower() in vowels_list:\n",
    "        return a\n",
    "\n",
    "print(list(filter(get_vowels,str1)))\n",
    "# OR ELSE THIS CAN ALSO BE DONE BY LAMBDA FUNCTION IN FILTER FUNCTION"
   ]
  },
  {
   "cell_type": "code",
   "execution_count": 44,
   "metadata": {},
   "outputs": [
    {
     "name": "stdout",
     "output_type": "stream",
     "text": [
      "['I', 'e', 'i', 'o', 'e', 'o', 'e', 'e', 'i', 'i', 'u', 'e', 'o', 'e', 'a', 'a', 'a', 'i', 'e', 'e', 'i', 'e', 'a', 'i']\n"
     ]
    }
   ],
   "source": [
    "str1=\"Inceptz is one of the best institutes to read data science in chennai\"\n",
    "vowels_list = ['a','e','i','o','u']\n",
    "\n",
    "print(list(filter(lambda y:y.lower() in vowels_list,list(str1))))\n",
    "     \n",
    "     "
   ]
  },
  {
   "cell_type": "markdown",
   "metadata": {},
   "source": [
    "Exercise 6: Write a function to create a list as the square of elements from the given list if the square is greater than 60\n",
    "lst1=[5, 6, 7 , 8, 9, 10, 12, 14]"
   ]
  },
  {
   "cell_type": "code",
   "execution_count": 49,
   "metadata": {},
   "outputs": [
    {
     "data": {
      "text/plain": [
       "[False, False, False, True, True, True, True, True]"
      ]
     },
     "execution_count": 49,
     "metadata": {},
     "output_type": "execute_result"
    }
   ],
   "source": [
    "# using the map function it returns the boolean value if condition computized\n",
    "lst1=[5, 6, 7 , 8, 9, 10, 12, 14]\n",
    "list(map(lambda s:s**2>60,lst1))\n",
    "# below is method to get resultant data in list"
   ]
  },
  {
   "cell_type": "code",
   "execution_count": 52,
   "metadata": {},
   "outputs": [
    {
     "data": {
      "text/plain": [
       "[8, 9, 10, 12, 14]"
      ]
     },
     "execution_count": 52,
     "metadata": {},
     "output_type": "execute_result"
    }
   ],
   "source": [
    "# while usiung the filter function it return the actual value unlike map after computation\n",
    "lst1=[5, 6, 7 , 8, 9, 10, 12, 14]\n",
    "list(filter(lambda s:s**2>60=,lst1))"
   ]
  },
  {
   "cell_type": "code",
   "execution_count": 74,
   "metadata": {},
   "outputs": [
    {
     "data": {
      "text/plain": [
       "[64, 81, 100, 144, 196]"
      ]
     },
     "execution_count": 74,
     "metadata": {},
     "output_type": "execute_result"
    }
   ],
   "source": [
    "# to get the squared value as result we can use both filter and map to iterate over and check condition\n",
    "lst1=[5, 6, 7 , 8, 9, 10, 12, 14]\n",
    "list(filter(lambda x:x>60,list(map(lambda w:w*w,lst1))))"
   ]
  },
  {
   "cell_type": "markdown",
   "metadata": {},
   "source": [
    "Exercise 7: take the words given below as list and write a function and use reduce to make it a sentence¶\n",
    "Inceptz\n",
    "\n",
    "provides\n",
    "\n",
    "the\n",
    "\n",
    "best\n",
    "\n",
    "inclass\n",
    "\n",
    "trainings\n",
    "\n",
    "and\n",
    "\n",
    "is\n",
    "\n",
    "the\n",
    "\n",
    "best\n",
    "\n"
   ]
  },
  {
   "cell_type": "code",
   "execution_count": 75,
   "metadata": {},
   "outputs": [
    {
     "name": "stdout",
     "output_type": "stream",
     "text": [
      "Inceptz provides the best inclass trainings and is the best\n"
     ]
    }
   ],
   "source": [
    "words_list = ['Inceptz','provides','the','best','inclass','trainings','and','is','the','best']\n",
    "result = reduce(lambda x,y:x+' '+y, words_list)\n",
    "print(result)"
   ]
  },
  {
   "cell_type": "code",
   "execution_count": null,
   "metadata": {},
   "outputs": [],
   "source": []
  }
 ],
 "metadata": {
  "kernelspec": {
   "display_name": "Python 3",
   "language": "python",
   "name": "python3"
  },
  "language_info": {
   "codemirror_mode": {
    "name": "ipython",
    "version": 3
   },
   "file_extension": ".py",
   "mimetype": "text/x-python",
   "name": "python",
   "nbconvert_exporter": "python",
   "pygments_lexer": "ipython3",
   "version": "3.7.6"
  }
 },
 "nbformat": 4,
 "nbformat_minor": 4
}
