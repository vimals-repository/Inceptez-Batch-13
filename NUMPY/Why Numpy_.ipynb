{
 "cells": [
  {
   "cell_type": "markdown",
   "metadata": {},
   "source": [
    "## 1) Memory usage "
   ]
  },
  {
   "cell_type": "code",
   "execution_count": 1,
   "metadata": {},
   "outputs": [
    {
     "name": "stdout",
     "output_type": "stream",
     "text": [
      "Size of Numpy array: 800\n"
     ]
    }
   ],
   "source": [
    "import numpy as np\n",
    "import time \n",
    "import sys \n",
    "\n",
    "#creating an numpy array\n",
    "array = np.arange(100)\n",
    "print(\"Size of Numpy array:\", array.size * array.itemsize)"
   ]
  },
  {
   "cell_type": "code",
   "execution_count": 5,
   "metadata": {},
   "outputs": [
    {
     "name": "stdout",
     "output_type": "stream",
     "text": [
      "Size of the list: 2800\n"
     ]
    }
   ],
   "source": [
    "list = range(0,100)\n",
    "print(\"Size of the list:\",sys.getsizeof(1)*len(list))"
   ]
  },
  {
   "cell_type": "markdown",
   "metadata": {},
   "source": [
    "## Faster! "
   ]
  },
  {
   "cell_type": "code",
   "execution_count": 6,
   "metadata": {},
   "outputs": [],
   "source": [
    "Size = 100000\n",
    "#creating two lists\n",
    "list1 = range(Size)\n",
    "list2 = range(Size)\n",
    "\n",
    "#creating 2 arrays\n",
    "arr1 = np.arange(Size)\n",
    "arr2 = np.arange(Size)"
   ]
  },
  {
   "cell_type": "code",
   "execution_count": 8,
   "metadata": {},
   "outputs": [
    {
     "name": "stdout",
     "output_type": "stream",
     "text": [
      "the time taken by list is: 17.571687698364258\n"
     ]
    }
   ],
   "source": [
    "#Calling time \n",
    "start = time.time()\n",
    "for x,y in zip(list1,list2):\n",
    "    res = x+y\n",
    "print(\"the time taken by list is:\",(time.time()-start)*1000)"
   ]
  },
  {
   "cell_type": "code",
   "execution_count": 9,
   "metadata": {},
   "outputs": [
    {
     "name": "stdout",
     "output_type": "stream",
     "text": [
      "the time taken by array is: 1.051187515258789\n"
     ]
    }
   ],
   "source": [
    "start = time.time()\n",
    "result = arr1+arr2\n",
    "print(\"the time taken by array is:\",(time.time()-start)*1000)"
   ]
  },
  {
   "cell_type": "markdown",
   "metadata": {},
   "source": [
    "## Convienient"
   ]
  },
  {
   "cell_type": "code",
   "execution_count": 13,
   "metadata": {},
   "outputs": [
    {
     "name": "stdout",
     "output_type": "stream",
     "text": [
      "The Addition is: [5 7 9]\n",
      "The subtraction is: [-3 -3 -3]\n",
      "The multiplication is: [ 4 10 18]\n"
     ]
    }
   ],
   "source": [
    "a1 = np.array([1,2,3])\n",
    "a2 = np.array([4,5,6])\n",
    "\n",
    "print(\"The Addition is:\",a1+a2)\n",
    "print(\"The subtraction is:\",a1-a2)\n",
    "print(\"The multiplication is:\",a1*a2)"
   ]
  },
  {
   "cell_type": "code",
   "execution_count": null,
   "metadata": {},
   "outputs": [],
   "source": []
  }
 ],
 "metadata": {
  "kernelspec": {
   "display_name": "conda_python3",
   "language": "python",
   "name": "conda_python3"
  },
  "language_info": {
   "codemirror_mode": {
    "name": "ipython",
    "version": 3
   },
   "file_extension": ".py",
   "mimetype": "text/x-python",
   "name": "python",
   "nbconvert_exporter": "python",
   "pygments_lexer": "ipython3",
   "version": "3.6.5"
  }
 },
 "nbformat": 4,
 "nbformat_minor": 4
}