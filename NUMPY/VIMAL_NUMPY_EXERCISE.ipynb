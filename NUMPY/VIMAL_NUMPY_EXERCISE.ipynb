{
 "cells": [
  {
   "cell_type": "markdown",
   "metadata": {},
   "source": [
    "Exercise 1: NumPy: Create an array with values ranging from 12 to 38\n",
    "In [1]:\n",
    "\n",
    "[12 13 14 15 16 17 18 19 20 21 22 23 24 25 26 27 28 29 30 31 32 33 34 35\n",
    " 36 37]"
   ]
  },
  {
   "cell_type": "code",
   "execution_count": 6,
   "metadata": {},
   "outputs": [
    {
     "name": "stdout",
     "output_type": "stream",
     "text": [
      "[12 13 14 15 16 17 18 19 20 21 22 23 24 25 26 27 28 29 30 31 32 33 34 35\n",
      " 36 37]\n"
     ]
    }
   ],
   "source": [
    "import numpy as np\n",
    "# print(np.arange(12,38,1)) or else as below\n",
    "print(np.arange(12,38))"
   ]
  },
  {
   "cell_type": "markdown",
   "metadata": {},
   "source": [
    "Exercise 2: Add a border around an existing array\n",
    "Hint: np.pad()\n",
    "In [2]:\n",
    "\n",
    "Original array:\n",
    "[[1. 1. 1.]\n",
    " [1. 1. 1.]\n",
    " [1. 1. 1.]]\n",
    "0 on the border and 1 inside in the array\n",
    "[[0. 0. 0. 0. 0.]\n",
    " [0. 1. 1. 1. 0.]\n",
    " [0. 1. 1. 1. 0.]\n",
    " [0. 1. 1. 1. 0.]\n",
    " [0. 0. 0. 0. 0.]]"
   ]
  },
  {
   "cell_type": "code",
   "execution_count": 78,
   "metadata": {},
   "outputs": [
    {
     "name": "stdout",
     "output_type": "stream",
     "text": [
      "[[0. 0. 0. 0. 0.]\n",
      " [0. 1. 1. 1. 0.]\n",
      " [0. 1. 1. 1. 0.]\n",
      " [0. 1. 1. 1. 0.]\n",
      " [0. 0. 0. 0. 0.]]\n"
     ]
    }
   ],
   "source": [
    "identity_mat = np.ones((3,3))\n",
    "# borderd_res = np.pad(identity_mat,pad_width=1,mode=\"constant\",constant_values=2)  or else\n",
    "borderd_res = np.pad(identity_mat,1)  \n",
    "print(borderd_res)"
   ]
  },
  {
   "cell_type": "markdown",
   "metadata": {},
   "source": [
    "Exercise 3: Convert a list and tuple into arrays\n",
    "In [6]:\n",
    "\n",
    "List to array: \n",
    "[1 2 3 4 5 6 7 8]\n",
    "Tuple to array: \n",
    "[[8 4 6]\n",
    " [1 2 3]]\n",
    "Also try np.asarray for the problem above!"
   ]
  },
  {
   "cell_type": "code",
   "execution_count": 36,
   "metadata": {},
   "outputs": [
    {
     "name": "stdout",
     "output_type": "stream",
     "text": [
      "list : [1, 2, 3, 4, 5, 6, 7, 8]\n",
      "list as array : [1 2 3 4 5 6 7 8]\n",
      "tuple : (1, 2, 3, 4, 5, 6)\n",
      "tupe as array : [1 2 3 4 5 6]\n",
      "tuple : ([8, 4, 6], [1, 2, 3])\n",
      "tupe as array :\n",
      "[[8 4 6]\n",
      " [1 2 3]]\n"
     ]
    }
   ],
   "source": [
    "import numpy as np\n",
    "list_data = [1,2,3,4,5,6,7,8]\n",
    "print(\"list :\",list_data)\n",
    "list_asarray = np.asarray(list_data)\n",
    "print(\"list as array :\",list_asarray)\n",
    "\n",
    "tuple_val = (1,2,3,4,5,6) \n",
    "print(\"tuple :\", tuple_val)\n",
    "tuple_asarray = np.asarray(tuple_val)\n",
    "print(\"tupe as array :\",tuple_asarray)\n",
    "\n",
    "tuple_val = ([8,4,6],[1,2,3]) \n",
    "print(\"tuple :\", tuple_val)\n",
    "tuple_asarray = np.asarray(tuple_val)\n",
    "print(\"tupe as array :\")\n",
    "print(tuple_asarray)"
   ]
  },
  {
   "cell_type": "markdown",
   "metadata": {},
   "source": [
    "Exercise 4: Convert the values of Centigrade degrees into Fahrenheit degrees\n",
    "In [4]:\n",
    "\n",
    "Values in Fahrenheit degrees:\n",
    "[ 0.   12.   45.21 34.   99.91]\n",
    "Values in  Centigrade degrees:\n",
    "[-17.77777778 -11.11111111   7.33888889   1.11111111  37.72777778]"
   ]
  },
  {
   "cell_type": "code",
   "execution_count": 6,
   "metadata": {},
   "outputs": [
    {
     "name": "stdout",
     "output_type": "stream",
     "text": [
      "Values in Fahrenheit degrees:  [ 0.   12.   45.21 34.   99.91]\n",
      "Values in  Centigrade degrees: [-17.77777778 -11.11111111   7.33888889   1.11111111  37.72777778]\n"
     ]
    }
   ],
   "source": [
    "import numpy as np\n",
    "fahrenheit_values = [0,12,45.21,34,99.91]\n",
    "f_as_array = np.asarray(fahrenheit_values)\n",
    "print(\"Values in Fahrenheit degrees: \",f_as_array)\n",
    "print(\"Values in  Centigrade degrees:\",(5*f_as_array/9 - 5*32/9))\n"
   ]
  },
  {
   "cell_type": "markdown",
   "metadata": {},
   "source": [
    "Exercise 5: Write a NumPy program to find the number of elements of an array, length of one array element in bytes and total bytes consumed by the elements.\n",
    "In [7]:\n",
    "\n",
    "Size of the array:  3\n",
    "Length of one array element in bytes:  8\n",
    "Total bytes consumed by the elements of the array:  24"
   ]
  },
  {
   "cell_type": "code",
   "execution_count": 26,
   "metadata": {},
   "outputs": [
    {
     "name": "stdout",
     "output_type": "stream",
     "text": [
      "array value :  [11.  2.  3.]\n",
      "Size of the array:  3\n",
      "Length of one array element in bytes:  8\n",
      "Total bytes consumed by the elements of the array:  24\n"
     ]
    }
   ],
   "source": [
    "import numpy as np\n",
    "array_val = np.array((11,2,3),dtype ='float')\n",
    "print(\"array value : \",array_val)\n",
    "print(\"Size of the array: \",np.size(array_val))\n",
    "print(\"Length of one array element in bytes: \",array_val.itemsize)\n",
    "print(\"Total bytes consumed by the elements of the array: \",array_val.nbytes)"
   ]
  },
  {
   "cell_type": "markdown",
   "metadata": {},
   "source": [
    "Exercise 6: Get the unique elements of an array\n",
    "In [9]:\n",
    "\n",
    "Original array:\n",
    "[10 10 20 20 30 30]\n",
    "Unique elements of the above array:\n",
    "[10 20 30]\n",
    "Original array:\n",
    "[[1 1]\n",
    " [2 3]]\n",
    "Unique elements of the above array:\n",
    "[1 2 3]"
   ]
  },
  {
   "cell_type": "code",
   "execution_count": 36,
   "metadata": {},
   "outputs": [
    {
     "name": "stdout",
     "output_type": "stream",
     "text": [
      "Original array:  [10 10 20 20 30 30]\n",
      "Unique elements of the above array:  [10 20 30]\n",
      "Original array:\n",
      "[[1 1]\n",
      " [2 3]]\n",
      "Unique elements of the above array:  [1 2 3]\n"
     ]
    }
   ],
   "source": [
    "my_list = [10,10,20,20,30,30]\n",
    "import numpy as np\n",
    "ary_val = np.array(my_list)\n",
    "print(\"Original array: \",ary_val)\n",
    "uniq_value = np.unique(ary_val)\n",
    "print(\"Unique elements of the above array: \",uniq_value)\n",
    "tuple_val = ([1,1],[2,3])\n",
    "two_d_aray = np.asarray(tuple_val)\n",
    "print(\"Original array:\")\n",
    "print(two_d_aray)\n",
    "uniq_two_d_aray = np.unique(two_d_aray)\n",
    "print(\"Unique elements of the above array: \",uniq_two_d_aray)"
   ]
  },
  {
   "cell_type": "markdown",
   "metadata": {},
   "source": [
    "Exercise 7: Change the dimension of an array\n",
    "In [11]:\n",
    "\n",
    "Original array: [1 2 3 4 5 6 7 8 9]\n",
    "Change array shape to (3, 3) -> 3 rows and 3 columns \n",
    "[[1 2 3]\n",
    " [4 5 6]\n",
    " [7 8 9]]"
   ]
  },
  {
   "cell_type": "code",
   "execution_count": 42,
   "metadata": {},
   "outputs": [
    {
     "name": "stdout",
     "output_type": "stream",
     "text": [
      "Original array:  [1 2 3 4 5 6 7 8 9]\n",
      "[[1 2 3]\n",
      " [4 5 6]\n",
      " [7 8 9]]\n"
     ]
    }
   ],
   "source": [
    "import numpy as np\n",
    "ary_data = np.array((1,2,3,4,5,6,7,8,9))\n",
    "print(\"Original array: \",ary_data)\n",
    "ary_shape = ary_data.reshape(3,3)\n",
    "print(ary_shape)"
   ]
  },
  {
   "cell_type": "markdown",
   "metadata": {},
   "source": [
    "Exercise 8: Create a 1-D array of 30 evenly spaced elements between 2.5. and 6.5, inclusive\n",
    "In [12]:\n",
    "\n",
    "[2.5        2.63793103 2.77586207 2.9137931  3.05172414 3.18965517\n",
    " 3.32758621 3.46551724 3.60344828 3.74137931 3.87931034 4.01724138\n",
    " 4.15517241 4.29310345 4.43103448 4.56896552 4.70689655 4.84482759\n",
    " 4.98275862 5.12068966 5.25862069 5.39655172 5.53448276 5.67241379\n",
    " 5.81034483 5.94827586 6.0862069  6.22413793 6.36206897 6.5       ]"
   ]
  },
  {
   "cell_type": "code",
   "execution_count": 45,
   "metadata": {},
   "outputs": [
    {
     "data": {
      "text/plain": [
       "array([2.5       , 2.63793103, 2.77586207, 2.9137931 , 3.05172414,\n",
       "       3.18965517, 3.32758621, 3.46551724, 3.60344828, 3.74137931,\n",
       "       3.87931034, 4.01724138, 4.15517241, 4.29310345, 4.43103448,\n",
       "       4.56896552, 4.70689655, 4.84482759, 4.98275862, 5.12068966,\n",
       "       5.25862069, 5.39655172, 5.53448276, 5.67241379, 5.81034483,\n",
       "       5.94827586, 6.0862069 , 6.22413793, 6.36206897, 6.5       ])"
      ]
     },
     "execution_count": 45,
     "metadata": {},
     "output_type": "execute_result"
    }
   ],
   "source": [
    "import numpy as np \n",
    "# np.arange(2.5,6.5,0.13793103)\n",
    "np.linspace(2.5,6.5,30)"
   ]
  },
  {
   "cell_type": "markdown",
   "metadata": {},
   "source": [
    "Exercise 9: Convert 1-D arrays as columns into a 2-D array\n",
    "In [21]:\n",
    "\n",
    "Array1: [10 20 30]\n",
    "Array2: [40 50 60]\n",
    "Converted array\n",
    "[[10 40]\n",
    " [20 50]\n",
    " [30 60]]"
   ]
  },
  {
   "cell_type": "code",
   "execution_count": 52,
   "metadata": {},
   "outputs": [
    {
     "name": "stdout",
     "output_type": "stream",
     "text": [
      "Array1:  [10 20 30]\n",
      "Array2:  [40 50 60]\n",
      "Converted array : \n",
      "[[10 40]\n",
      " [20 50]\n",
      " [30 60]]\n"
     ]
    }
   ],
   "source": [
    "import numpy as np \n",
    "first_array = np.array((10,20,30))\n",
    "second_array = np.array((40,50,60))\n",
    "print(\"Array1: \",first_array)\n",
    "print(\"Array2: \",second_array)\n",
    "print(\"Converted array : \")\n",
    "print(np.column_stack((first_array,second_array)))"
   ]
  },
  {
   "cell_type": "markdown",
   "metadata": {},
   "source": [
    "Exercise 10: Create a 5x5 matrix with row values ranging from 0 to 4\n",
    "In [22]:\n",
    "\n",
    "Original array:\n",
    "[[0. 0. 0. 0. 0.]\n",
    " [0. 0. 0. 0. 0.]\n",
    " [0. 0. 0. 0. 0.]\n",
    " [0. 0. 0. 0. 0.]\n",
    " [0. 0. 0. 0. 0.]]\n",
    "Row values ranging from 0 to 4.\n",
    "[[0. 1. 2. 3. 4.]\n",
    " [0. 1. 2. 3. 4.]\n",
    " [0. 1. 2. 3. 4.]\n",
    " [0. 1. 2. 3. 4.]\n",
    " [0. 1. 2. 3. 4.]]"
   ]
  },
  {
   "cell_type": "code",
   "execution_count": 75,
   "metadata": {},
   "outputs": [
    {
     "name": "stdout",
     "output_type": "stream",
     "text": [
      "Original array: \n",
      "[[0. 0. 0. 0. 0.]\n",
      " [0. 0. 0. 0. 0.]\n",
      " [0. 0. 0. 0. 0.]\n",
      " [0. 0. 0. 0. 0.]\n",
      " [0. 0. 0. 0. 0.]]\n",
      "Row values ranging from 0 to 4. : \n",
      "[[0. 1. 2. 3. 4.]\n",
      " [0. 1. 2. 3. 4.]\n",
      " [0. 1. 2. 3. 4.]\n",
      " [0. 1. 2. 3. 4.]\n",
      " [0. 1. 2. 3. 4.]]\n"
     ]
    }
   ],
   "source": [
    "import numpy as np\n",
    "array1 = np.zeros((5,5))\n",
    "print(\"Original array: \")\n",
    "print(array1)\n",
    "print(\"Row values ranging from 0 to 4. : \")\n",
    "array1 += np.arange(5)\n",
    "print(array1)"
   ]
  },
  {
   "cell_type": "markdown",
   "metadata": {},
   "source": [
    "Exercise 11: Sum of all the multiples of 3 or 5 below 100\n",
    "In [23]:\n",
    "\n",
    "[ 3  5  6  9 10 12 15 18 20 21 24 25 27 30 33 35 36 39 40 42 45 48 50 51\n",
    " 54 55 57 60 63 65 66 69 70 72 75 78 80 81 84 85 87 90 93 95 96 99]\n",
    "2318"
   ]
  },
  {
   "cell_type": "code",
   "execution_count": 13,
   "metadata": {},
   "outputs": [
    {
     "name": "stdout",
     "output_type": "stream",
     "text": [
      "range of values : [ 1  2  3  4  5  6  7  8  9 10 11 12 13 14 15 16 17 18 19 20 21 22 23 24\n",
      " 25 26 27 28 29 30 31 32 33 34 35 36 37 38 39 40 41 42 43 44 45 46 47 48\n",
      " 49 50 51 52 53 54 55 56 57 58 59 60 61 62 63 64 65 66 67 68 69 70 71 72\n",
      " 73 74 75 76 77 78 79 80 81 82 83 84 85 86 87 88 89 90 91 92 93 94 95 96\n",
      " 97 98 99]\n",
      "All the multiples of 3 or 5 below 100 :  [ 3  5  6  9 10 12 15 18 20 21 24 25 27 30 33 35 36 39 40 42 45 48 50 51\n",
      " 54 55 57 60 63 65 66 69 70 72 75 78 80 81 84 85 87 90 93 95 96 99]\n",
      "Sum of all the multiples of 3 or 5 below 100 :  2318\n"
     ]
    }
   ],
   "source": [
    "import numpy as np\n",
    "initial_aray = np.arange(1,100)\n",
    "print(\"range of values :\",initial_aray)\n",
    "req_values = initial_aray[(initial_aray%3==0) | (initial_aray%5==0)]\n",
    "print(\"All the multiples of 3 or 5 below 100 : \",req_values)\n",
    "print(\"Sum of all the multiples of 3 or 5 below 100 : \",np.sum(req_values))"
   ]
  },
  {
   "cell_type": "markdown",
   "metadata": {},
   "source": [
    "Exercise 12: Combine a one and a two dimensional array together and display their elements\n",
    "Hint : np.nditer()\n",
    "In [28]:\n",
    "x = np.arange(4)\n",
    "y = np.arange(4)\n",
    "for a, b in np.nditer([x,y]):\n",
    "    print(a)\n",
    "    print(b)\n",
    "0\n",
    "0\n",
    "1\n",
    "1\n",
    "2\n",
    "2\n",
    "3\n",
    "3\n",
    "In [29]:\n",
    "\n",
    "One dimensional array:\n",
    "[0 1 2 3]\n",
    "Two dimensional array:\n",
    "[[0 1 2 3]\n",
    " [4 5 6 7]]\n",
    "0:0\n",
    "1:1\n",
    "2:2\n",
    "3:3\n",
    "0:4\n",
    "1:5\n",
    "2:6\n",
    "3:7"
   ]
  },
  {
   "cell_type": "code",
   "execution_count": 27,
   "metadata": {},
   "outputs": [
    {
     "name": "stdout",
     "output_type": "stream",
     "text": [
      "0 0\n",
      "1 1\n",
      "2 2\n",
      "3 3\n",
      "0 4\n",
      "1 5\n",
      "2 6\n",
      "3 7\n",
      "[0 1 2 3]\n"
     ]
    }
   ],
   "source": [
    "import numpy as np \n",
    "first_array = np.arange(4)\n",
    "second_array = np.arange(8).reshape(2,4)\n",
    "\n",
    "for x,y in np.nditer([first_array,second_array]):\n",
    "    print(x,y)\n",
    "print(first_array)"
   ]
  },
  {
   "cell_type": "code",
   "execution_count": 36,
   "metadata": {},
   "outputs": [
    {
     "name": "stdout",
     "output_type": "stream",
     "text": [
      "One dimensional array: :  [0 1 2 3]\n",
      "Two dimensional array: : \n",
      " [[0 1 2 3]\n",
      " [4 5 6 7]]\n",
      "Iterator Array : \n",
      "0:0\n",
      "1:1\n",
      "2:2\n",
      "3:3\n",
      "0:4\n",
      "1:5\n",
      "2:6\n",
      "3:7\n"
     ]
    }
   ],
   "source": [
    "import numpy as np \n",
    "first_aray = np.arange(4)\n",
    "second_aray = np.arange(8).reshape(2,4)\n",
    "print(\"One dimensional array: : \",first_aray)\n",
    "print(\"Two dimensional array: : \\n\",second_aray)\n",
    "print(\"Iterator Array : \")\n",
    "for x,y in np.nditer([first_aray,second_aray]):\n",
    "    print(\"%d:%d\" % (x,y))"
   ]
  },
  {
   "cell_type": "markdown",
   "metadata": {},
   "source": [
    "Exercise 13: Write a NumPy program to replace all elements of NumPy array that are greater than specified array.\n",
    "In [30]:\n",
    "\n",
    "Original array:\n",
    "[[0.42436315 0.48558583 0.32924763]\n",
    " [0.7439979  0.58220701 0.38213418]\n",
    " [0.5097581  0.34528799 0.1563123 ]]\n",
    "Replace all elements of the said array with .5 which are greater than .5\n",
    "[[0.42436315 0.48558583 0.32924763]\n",
    " [0.5        0.5        0.38213418]\n",
    " [0.5        0.34528799 0.1563123 ]]"
   ]
  },
  {
   "cell_type": "code",
   "execution_count": 61,
   "metadata": {},
   "outputs": [
    {
     "name": "stdout",
     "output_type": "stream",
     "text": [
      "Original array: \n",
      " [[0.42436315 0.48558583 0.32924763]\n",
      " [0.7439979  0.58220701 0.38213418]\n",
      " [0.5097581  0.34528799 0.1563123 ]] \n",
      "\n",
      "Values Greater Than 0.5 Replaced With o.5 : \n",
      " [[0.42436315 0.48558583 0.32924763]\n",
      " [0.5        0.5        0.38213418]\n",
      " [0.5        0.34528799 0.1563123 ]]\n"
     ]
    }
   ],
   "source": [
    "import numpy as np\n",
    "listvalues  = [0.42436315, 0.48558583, 0.32924763 ,0.7439979  ,0.58220701, 0.38213418 ,0.5097581 ,0.34528799 ,0.1563123]\n",
    "shaped_Aray = np.asarray(listvalues).reshape(3,3)\n",
    "print(\"Original array: \\n\", shaped_Aray,\"\\n\")\n",
    "shaped_Aray[shaped_Aray>0.5] = 0.5\n",
    "print(\"Values Greater Than 0.5 Replaced With o.5 : \\n\",shaped_Aray)"
   ]
  },
  {
   "cell_type": "markdown",
   "metadata": {},
   "source": [
    "Exercise 14: Add a new row to an empty numpy array\n",
    "In [34]:\n",
    "\n",
    "Empty array:\n",
    "[]\n",
    "After adding two new arrays:\n",
    "[[10 20 30]\n",
    " [40 50 60]]"
   ]
  },
  {
   "cell_type": "code",
   "execution_count": 78,
   "metadata": {},
   "outputs": [
    {
     "name": "stdout",
     "output_type": "stream",
     "text": [
      "Empty Array : \n",
      " []\n",
      "[[10 20 30]\n",
      " [40 50 60]]\n"
     ]
    }
   ],
   "source": [
    "import numpy as np\n",
    "a_array = np.empty((0,3),int)\n",
    "print(\"Empty Array : \\n\",an_array)\n",
    "b_array = [10,20,30]\n",
    "c_Array = [40,50,60]\n",
    "print(np.append(a_array,np.array([b_array,c_Array]),axis =0))"
   ]
  },
  {
   "cell_type": "markdown",
   "metadata": {},
   "source": [
    "Exercise 15: Write a NumPy program to join a sequence of arrays along a new axis.\n",
    "In [35]:\n",
    "\n",
    "Original arrays:\n",
    "[1 2 3]\n",
    "[2 3 4]\n",
    "Sequence of arrays along a new axis:\n",
    "[[1 2 3]\n",
    " [2 3 4]]\n",
    "\n",
    "Original arrays:\n",
    "[[1]\n",
    " [2]\n",
    " [3]]\n",
    "\n",
    "[[2]\n",
    " [3]\n",
    " [4]]\n",
    "Sequence of arrays along a new axis:\n",
    "[[1]\n",
    " [2]\n",
    " [3]\n",
    " [2]\n",
    " [3]\n",
    " [4]]"
   ]
  },
  {
   "cell_type": "code",
   "execution_count": 102,
   "metadata": {},
   "outputs": [
    {
     "name": "stdout",
     "output_type": "stream",
     "text": [
      "Original arrays: \n",
      " [1 2 3] \n",
      " [2 3 4]\n",
      "Sequence of arrays along a new axis: \n",
      " [[1 2 3]\n",
      " [2 3 4]] \n",
      "\n",
      "Original arrays: \n",
      " [[1]\n",
      " [2]\n",
      " [3]] \n",
      "\n",
      " [[2]\n",
      " [3]\n",
      " [4]]\n",
      "Sequence of arrays along a new axis: \n",
      " [[1]\n",
      " [2]\n",
      " [3]\n",
      " [2]\n",
      " [3]\n",
      " [4]]\n"
     ]
    }
   ],
   "source": [
    "import numpy as np\n",
    "a1 = np.array(([1,2,3]))\n",
    "a2 = np.array(([2,3,4]))\n",
    "print(\"Original arrays: \\n\",a1,\"\\n\",a2)\n",
    "print(\"Sequence of arrays along a new axis: \\n\",np.vstack((a1,a2)),\"\\n\")\n",
    "a3 = np.array([[1],[2],[3]])\n",
    "a4 = np.array([[2],[3],[4]])\n",
    "print(\"Original arrays: \\n\",a3,\"\\n\\n\",a4)\n",
    "print(\"Sequence of arrays along a new axis: \\n\",np.vstack((a3,a4)))"
   ]
  },
  {
   "cell_type": "code",
   "execution_count": null,
   "metadata": {},
   "outputs": [],
   "source": []
  }
 ],
 "metadata": {
  "kernelspec": {
   "display_name": "Python 3",
   "language": "python",
   "name": "python3"
  },
  "language_info": {
   "codemirror_mode": {
    "name": "ipython",
    "version": 3
   },
   "file_extension": ".py",
   "mimetype": "text/x-python",
   "name": "python",
   "nbconvert_exporter": "python",
   "pygments_lexer": "ipython3",
   "version": "3.7.6"
  }
 },
 "nbformat": 4,
 "nbformat_minor": 4
}
